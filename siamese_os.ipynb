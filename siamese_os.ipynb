{
  "nbformat": 4,
  "nbformat_minor": 0,
  "metadata": {
    "kernelspec": {
      "display_name": "Python 3",
      "language": "python",
      "name": "python3"
    },
    "language_info": {
      "codemirror_mode": {
        "name": "ipython",
        "version": 3
      },
      "file_extension": ".py",
      "mimetype": "text/x-python",
      "name": "python",
      "nbconvert_exporter": "python",
      "pygments_lexer": "ipython3",
      "version": "3.6.9"
    },
    "colab": {
      "name": "one-shot-learning.ipynb",
      "provenance": []
    },
    "accelerator": "GPU"
  },
  "cells": [
    {
      "cell_type": "markdown",
      "metadata": {
        "id": "GeOJvCjCLxHW",
        "colab_type": "text"
      },
      "source": [
        "# One shot learning with Siamese Network"
      ]
    },
    {
      "cell_type": "code",
      "metadata": {
        "id": "9AhKaj4rMkl9",
        "colab_type": "code",
        "colab": {
          "base_uri": "https://localhost:8080/",
          "height": 674
        },
        "outputId": "6ebc2eaf-f910-440e-819e-7dacd233cec9"
      },
      "source": [
        "!pip install tensorflow-gpu"
      ],
      "execution_count": 1,
      "outputs": [
        {
          "output_type": "stream",
          "text": [
            "Requirement already satisfied: tensorflow-gpu in /usr/local/lib/python3.6/dist-packages (2.3.0)\n",
            "Requirement already satisfied: google-pasta>=0.1.8 in /usr/local/lib/python3.6/dist-packages (from tensorflow-gpu) (0.2.0)\n",
            "Requirement already satisfied: tensorboard<3,>=2.3.0 in /usr/local/lib/python3.6/dist-packages (from tensorflow-gpu) (2.3.0)\n",
            "Requirement already satisfied: grpcio>=1.8.6 in /usr/local/lib/python3.6/dist-packages (from tensorflow-gpu) (1.30.0)\n",
            "Requirement already satisfied: astunparse==1.6.3 in /usr/local/lib/python3.6/dist-packages (from tensorflow-gpu) (1.6.3)\n",
            "Requirement already satisfied: h5py<2.11.0,>=2.10.0 in /usr/local/lib/python3.6/dist-packages (from tensorflow-gpu) (2.10.0)\n",
            "Requirement already satisfied: gast==0.3.3 in /usr/local/lib/python3.6/dist-packages (from tensorflow-gpu) (0.3.3)\n",
            "Requirement already satisfied: tensorflow-estimator<2.4.0,>=2.3.0 in /usr/local/lib/python3.6/dist-packages (from tensorflow-gpu) (2.3.0)\n",
            "Requirement already satisfied: scipy==1.4.1 in /usr/local/lib/python3.6/dist-packages (from tensorflow-gpu) (1.4.1)\n",
            "Requirement already satisfied: protobuf>=3.9.2 in /usr/local/lib/python3.6/dist-packages (from tensorflow-gpu) (3.12.4)\n",
            "Requirement already satisfied: numpy<1.19.0,>=1.16.0 in /usr/local/lib/python3.6/dist-packages (from tensorflow-gpu) (1.18.5)\n",
            "Requirement already satisfied: wheel>=0.26 in /usr/local/lib/python3.6/dist-packages (from tensorflow-gpu) (0.34.2)\n",
            "Requirement already satisfied: absl-py>=0.7.0 in /usr/local/lib/python3.6/dist-packages (from tensorflow-gpu) (0.9.0)\n",
            "Requirement already satisfied: termcolor>=1.1.0 in /usr/local/lib/python3.6/dist-packages (from tensorflow-gpu) (1.1.0)\n",
            "Requirement already satisfied: wrapt>=1.11.1 in /usr/local/lib/python3.6/dist-packages (from tensorflow-gpu) (1.12.1)\n",
            "Requirement already satisfied: six>=1.12.0 in /usr/local/lib/python3.6/dist-packages (from tensorflow-gpu) (1.15.0)\n",
            "Requirement already satisfied: opt-einsum>=2.3.2 in /usr/local/lib/python3.6/dist-packages (from tensorflow-gpu) (3.3.0)\n",
            "Requirement already satisfied: keras-preprocessing<1.2,>=1.1.1 in /usr/local/lib/python3.6/dist-packages (from tensorflow-gpu) (1.1.2)\n",
            "Requirement already satisfied: requests<3,>=2.21.0 in /usr/local/lib/python3.6/dist-packages (from tensorboard<3,>=2.3.0->tensorflow-gpu) (2.23.0)\n",
            "Requirement already satisfied: google-auth<2,>=1.6.3 in /usr/local/lib/python3.6/dist-packages (from tensorboard<3,>=2.3.0->tensorflow-gpu) (1.17.2)\n",
            "Requirement already satisfied: tensorboard-plugin-wit>=1.6.0 in /usr/local/lib/python3.6/dist-packages (from tensorboard<3,>=2.3.0->tensorflow-gpu) (1.7.0)\n",
            "Requirement already satisfied: setuptools>=41.0.0 in /usr/local/lib/python3.6/dist-packages (from tensorboard<3,>=2.3.0->tensorflow-gpu) (49.2.0)\n",
            "Requirement already satisfied: google-auth-oauthlib<0.5,>=0.4.1 in /usr/local/lib/python3.6/dist-packages (from tensorboard<3,>=2.3.0->tensorflow-gpu) (0.4.1)\n",
            "Requirement already satisfied: markdown>=2.6.8 in /usr/local/lib/python3.6/dist-packages (from tensorboard<3,>=2.3.0->tensorflow-gpu) (3.2.2)\n",
            "Requirement already satisfied: werkzeug>=0.11.15 in /usr/local/lib/python3.6/dist-packages (from tensorboard<3,>=2.3.0->tensorflow-gpu) (1.0.1)\n",
            "Requirement already satisfied: urllib3!=1.25.0,!=1.25.1,<1.26,>=1.21.1 in /usr/local/lib/python3.6/dist-packages (from requests<3,>=2.21.0->tensorboard<3,>=2.3.0->tensorflow-gpu) (1.24.3)\n",
            "Requirement already satisfied: chardet<4,>=3.0.2 in /usr/local/lib/python3.6/dist-packages (from requests<3,>=2.21.0->tensorboard<3,>=2.3.0->tensorflow-gpu) (3.0.4)\n",
            "Requirement already satisfied: idna<3,>=2.5 in /usr/local/lib/python3.6/dist-packages (from requests<3,>=2.21.0->tensorboard<3,>=2.3.0->tensorflow-gpu) (2.10)\n",
            "Requirement already satisfied: certifi>=2017.4.17 in /usr/local/lib/python3.6/dist-packages (from requests<3,>=2.21.0->tensorboard<3,>=2.3.0->tensorflow-gpu) (2020.6.20)\n",
            "Requirement already satisfied: pyasn1-modules>=0.2.1 in /usr/local/lib/python3.6/dist-packages (from google-auth<2,>=1.6.3->tensorboard<3,>=2.3.0->tensorflow-gpu) (0.2.8)\n",
            "Requirement already satisfied: cachetools<5.0,>=2.0.0 in /usr/local/lib/python3.6/dist-packages (from google-auth<2,>=1.6.3->tensorboard<3,>=2.3.0->tensorflow-gpu) (4.1.1)\n",
            "Requirement already satisfied: rsa<5,>=3.1.4; python_version >= \"3\" in /usr/local/lib/python3.6/dist-packages (from google-auth<2,>=1.6.3->tensorboard<3,>=2.3.0->tensorflow-gpu) (4.5)\n",
            "Requirement already satisfied: requests-oauthlib>=0.7.0 in /usr/local/lib/python3.6/dist-packages (from google-auth-oauthlib<0.5,>=0.4.1->tensorboard<3,>=2.3.0->tensorflow-gpu) (1.3.0)\n",
            "Requirement already satisfied: importlib-metadata; python_version < \"3.8\" in /usr/local/lib/python3.6/dist-packages (from markdown>=2.6.8->tensorboard<3,>=2.3.0->tensorflow-gpu) (1.7.0)\n",
            "Requirement already satisfied: pyasn1<0.5.0,>=0.4.6 in /usr/local/lib/python3.6/dist-packages (from pyasn1-modules>=0.2.1->google-auth<2,>=1.6.3->tensorboard<3,>=2.3.0->tensorflow-gpu) (0.4.8)\n",
            "Requirement already satisfied: oauthlib>=3.0.0 in /usr/local/lib/python3.6/dist-packages (from requests-oauthlib>=0.7.0->google-auth-oauthlib<0.5,>=0.4.1->tensorboard<3,>=2.3.0->tensorflow-gpu) (3.1.0)\n",
            "Requirement already satisfied: zipp>=0.5 in /usr/local/lib/python3.6/dist-packages (from importlib-metadata; python_version < \"3.8\"->markdown>=2.6.8->tensorboard<3,>=2.3.0->tensorflow-gpu) (3.1.0)\n"
          ],
          "name": "stdout"
        }
      ]
    },
    {
      "cell_type": "code",
      "metadata": {
        "id": "1w2g98GVM6ew",
        "colab_type": "code",
        "colab": {
          "base_uri": "https://localhost:8080/",
          "height": 674
        },
        "outputId": "fcab649a-df5f-485c-8dcc-3ea260dd7fa5"
      },
      "source": [
        "!pip install tf-nightly "
      ],
      "execution_count": 2,
      "outputs": [
        {
          "output_type": "stream",
          "text": [
            "Requirement already satisfied: tf-nightly in /usr/local/lib/python3.6/dist-packages (2.4.0.dev20200803)\n",
            "Requirement already satisfied: gast==0.3.3 in /usr/local/lib/python3.6/dist-packages (from tf-nightly) (0.3.3)\n",
            "Requirement already satisfied: google-pasta>=0.1.8 in /usr/local/lib/python3.6/dist-packages (from tf-nightly) (0.2.0)\n",
            "Requirement already satisfied: opt-einsum>=2.3.2 in /usr/local/lib/python3.6/dist-packages (from tf-nightly) (3.3.0)\n",
            "Requirement already satisfied: flatbuffers>=1.12 in /usr/local/lib/python3.6/dist-packages (from tf-nightly) (1.12)\n",
            "Requirement already satisfied: tf-estimator-nightly in /usr/local/lib/python3.6/dist-packages (from tf-nightly) (2.4.0.dev2020080401)\n",
            "Requirement already satisfied: h5py<2.11.0,>=2.10.0 in /usr/local/lib/python3.6/dist-packages (from tf-nightly) (2.10.0)\n",
            "Requirement already satisfied: six>=1.12.0 in /usr/local/lib/python3.6/dist-packages (from tf-nightly) (1.15.0)\n",
            "Requirement already satisfied: astunparse==1.6.3 in /usr/local/lib/python3.6/dist-packages (from tf-nightly) (1.6.3)\n",
            "Requirement already satisfied: tb-nightly<3.0.0a0,>=2.4.0a0 in /usr/local/lib/python3.6/dist-packages (from tf-nightly) (2.4.0a20200804)\n",
            "Requirement already satisfied: absl-py>=0.7.0 in /usr/local/lib/python3.6/dist-packages (from tf-nightly) (0.9.0)\n",
            "Requirement already satisfied: grpcio>=1.8.6 in /usr/local/lib/python3.6/dist-packages (from tf-nightly) (1.30.0)\n",
            "Requirement already satisfied: keras-preprocessing<1.2,>=1.1.1 in /usr/local/lib/python3.6/dist-packages (from tf-nightly) (1.1.2)\n",
            "Requirement already satisfied: termcolor>=1.1.0 in /usr/local/lib/python3.6/dist-packages (from tf-nightly) (1.1.0)\n",
            "Requirement already satisfied: protobuf>=3.9.2 in /usr/local/lib/python3.6/dist-packages (from tf-nightly) (3.12.4)\n",
            "Requirement already satisfied: wheel>=0.26 in /usr/local/lib/python3.6/dist-packages (from tf-nightly) (0.34.2)\n",
            "Requirement already satisfied: numpy<1.19.0,>=1.16.0 in /usr/local/lib/python3.6/dist-packages (from tf-nightly) (1.18.5)\n",
            "Requirement already satisfied: wrapt>=1.11.1 in /usr/local/lib/python3.6/dist-packages (from tf-nightly) (1.12.1)\n",
            "Requirement already satisfied: requests<3,>=2.21.0 in /usr/local/lib/python3.6/dist-packages (from tb-nightly<3.0.0a0,>=2.4.0a0->tf-nightly) (2.23.0)\n",
            "Requirement already satisfied: markdown>=2.6.8 in /usr/local/lib/python3.6/dist-packages (from tb-nightly<3.0.0a0,>=2.4.0a0->tf-nightly) (3.2.2)\n",
            "Requirement already satisfied: google-auth<2,>=1.6.3 in /usr/local/lib/python3.6/dist-packages (from tb-nightly<3.0.0a0,>=2.4.0a0->tf-nightly) (1.17.2)\n",
            "Requirement already satisfied: werkzeug>=0.11.15 in /usr/local/lib/python3.6/dist-packages (from tb-nightly<3.0.0a0,>=2.4.0a0->tf-nightly) (1.0.1)\n",
            "Requirement already satisfied: google-auth-oauthlib<0.5,>=0.4.1 in /usr/local/lib/python3.6/dist-packages (from tb-nightly<3.0.0a0,>=2.4.0a0->tf-nightly) (0.4.1)\n",
            "Requirement already satisfied: tensorboard-plugin-wit>=1.6.0 in /usr/local/lib/python3.6/dist-packages (from tb-nightly<3.0.0a0,>=2.4.0a0->tf-nightly) (1.7.0)\n",
            "Requirement already satisfied: setuptools>=41.0.0 in /usr/local/lib/python3.6/dist-packages (from tb-nightly<3.0.0a0,>=2.4.0a0->tf-nightly) (49.2.0)\n",
            "Requirement already satisfied: idna<3,>=2.5 in /usr/local/lib/python3.6/dist-packages (from requests<3,>=2.21.0->tb-nightly<3.0.0a0,>=2.4.0a0->tf-nightly) (2.10)\n",
            "Requirement already satisfied: certifi>=2017.4.17 in /usr/local/lib/python3.6/dist-packages (from requests<3,>=2.21.0->tb-nightly<3.0.0a0,>=2.4.0a0->tf-nightly) (2020.6.20)\n",
            "Requirement already satisfied: chardet<4,>=3.0.2 in /usr/local/lib/python3.6/dist-packages (from requests<3,>=2.21.0->tb-nightly<3.0.0a0,>=2.4.0a0->tf-nightly) (3.0.4)\n",
            "Requirement already satisfied: urllib3!=1.25.0,!=1.25.1,<1.26,>=1.21.1 in /usr/local/lib/python3.6/dist-packages (from requests<3,>=2.21.0->tb-nightly<3.0.0a0,>=2.4.0a0->tf-nightly) (1.24.3)\n",
            "Requirement already satisfied: importlib-metadata; python_version < \"3.8\" in /usr/local/lib/python3.6/dist-packages (from markdown>=2.6.8->tb-nightly<3.0.0a0,>=2.4.0a0->tf-nightly) (1.7.0)\n",
            "Requirement already satisfied: rsa<5,>=3.1.4; python_version >= \"3\" in /usr/local/lib/python3.6/dist-packages (from google-auth<2,>=1.6.3->tb-nightly<3.0.0a0,>=2.4.0a0->tf-nightly) (4.5)\n",
            "Requirement already satisfied: cachetools<5.0,>=2.0.0 in /usr/local/lib/python3.6/dist-packages (from google-auth<2,>=1.6.3->tb-nightly<3.0.0a0,>=2.4.0a0->tf-nightly) (4.1.1)\n",
            "Requirement already satisfied: pyasn1-modules>=0.2.1 in /usr/local/lib/python3.6/dist-packages (from google-auth<2,>=1.6.3->tb-nightly<3.0.0a0,>=2.4.0a0->tf-nightly) (0.2.8)\n",
            "Requirement already satisfied: requests-oauthlib>=0.7.0 in /usr/local/lib/python3.6/dist-packages (from google-auth-oauthlib<0.5,>=0.4.1->tb-nightly<3.0.0a0,>=2.4.0a0->tf-nightly) (1.3.0)\n",
            "Requirement already satisfied: zipp>=0.5 in /usr/local/lib/python3.6/dist-packages (from importlib-metadata; python_version < \"3.8\"->markdown>=2.6.8->tb-nightly<3.0.0a0,>=2.4.0a0->tf-nightly) (3.1.0)\n",
            "Requirement already satisfied: pyasn1>=0.1.3 in /usr/local/lib/python3.6/dist-packages (from rsa<5,>=3.1.4; python_version >= \"3\"->google-auth<2,>=1.6.3->tb-nightly<3.0.0a0,>=2.4.0a0->tf-nightly) (0.4.8)\n",
            "Requirement already satisfied: oauthlib>=3.0.0 in /usr/local/lib/python3.6/dist-packages (from requests-oauthlib>=0.7.0->google-auth-oauthlib<0.5,>=0.4.1->tb-nightly<3.0.0a0,>=2.4.0a0->tf-nightly) (3.1.0)\n"
          ],
          "name": "stdout"
        }
      ]
    },
    {
      "cell_type": "markdown",
      "metadata": {
        "id": "cI4LDadLLxHX",
        "colab_type": "text"
      },
      "source": [
        "## Import os, numpy for loading images"
      ]
    },
    {
      "cell_type": "code",
      "metadata": {
        "id": "PsXxC-QNLxHY",
        "colab_type": "code",
        "colab": {
          "base_uri": "https://localhost:8080/",
          "height": 87
        },
        "outputId": "009252f2-6a78-4154-b589-17c46636d7be"
      },
      "source": [
        "import sys\n",
        "import numpy as np\n",
        "import pandas as pd\n",
        "import pickle\n",
        "import os\n",
        "import time\n",
        "import tensorflow as tf\n",
        "from keras.models import Sequential\n",
        "from keras.optimizers import Adam\n",
        "from keras.layers import Conv2D, ZeroPadding2D, Activation, Input, concatenate\n",
        "from keras.models import Model\n",
        "from keras.layers.normalization import BatchNormalization\n",
        "from keras.layers.pooling import MaxPooling2D\n",
        "from keras.layers.merge import Concatenate\n",
        "from keras.layers.core import Lambda, Flatten, Dense\n",
        "from keras.initializers import glorot_uniform\n",
        "from keras.engine.topology import Layer\n",
        "from keras.regularizers import l2\n",
        "from keras import backend as K\n",
        "from sklearn.utils import shuffle\n",
        "%pylab inline"
      ],
      "execution_count": 3,
      "outputs": [
        {
          "output_type": "stream",
          "text": [
            "Populating the interactive namespace from numpy and matplotlib\n"
          ],
          "name": "stdout"
        },
        {
          "output_type": "stream",
          "text": [
            "/usr/local/lib/python3.6/dist-packages/IPython/core/magics/pylab.py:161: UserWarning: pylab import has clobbered these variables: ['shuffle', 'concatenate']\n",
            "`%matplotlib` prevents importing * from pylab and numpy\n",
            "  \"\\n`%matplotlib` prevents importing * from pylab and numpy\"\n"
          ],
          "name": "stderr"
        }
      ]
    },
    {
      "cell_type": "code",
      "metadata": {
        "id": "-LajfxMMN3t8",
        "colab_type": "code",
        "colab": {
          "base_uri": "https://localhost:8080/",
          "height": 35
        },
        "outputId": "a7c85264-18c9-4cde-cfb2-b14be93f762c"
      },
      "source": [
        "tf.test.gpu_device_name()"
      ],
      "execution_count": 4,
      "outputs": [
        {
          "output_type": "execute_result",
          "data": {
            "application/vnd.google.colaboratory.intrinsic+json": {
              "type": "string"
            },
            "text/plain": [
              "'/device:GPU:0'"
            ]
          },
          "metadata": {
            "tags": []
          },
          "execution_count": 4
        }
      ]
    },
    {
      "cell_type": "code",
      "metadata": {
        "id": "lJday2TsO_tU",
        "colab_type": "code",
        "colab": {
          "base_uri": "https://localhost:8080/",
          "height": 230
        },
        "outputId": "ffe5b946-4e3d-4d25-826c-18a27f4228ff"
      },
      "source": [
        "!pip install awscli"
      ],
      "execution_count": 5,
      "outputs": [
        {
          "output_type": "stream",
          "text": [
            "Requirement already satisfied: awscli in /usr/local/lib/python3.6/dist-packages (1.18.111)\n",
            "Requirement already satisfied: botocore==1.17.34 in /usr/local/lib/python3.6/dist-packages (from awscli) (1.17.34)\n",
            "Requirement already satisfied: PyYAML<5.4,>=3.10; python_version != \"3.4\" in /usr/local/lib/python3.6/dist-packages (from awscli) (3.13)\n",
            "Requirement already satisfied: docutils<0.16,>=0.10 in /usr/local/lib/python3.6/dist-packages (from awscli) (0.15.2)\n",
            "Requirement already satisfied: rsa<=4.5.0,>=3.1.2; python_version != \"3.4\" in /usr/local/lib/python3.6/dist-packages (from awscli) (4.5)\n",
            "Requirement already satisfied: colorama<0.4.4,>=0.2.5; python_version != \"3.4\" in /usr/local/lib/python3.6/dist-packages (from awscli) (0.4.3)\n",
            "Requirement already satisfied: s3transfer<0.4.0,>=0.3.0 in /usr/local/lib/python3.6/dist-packages (from awscli) (0.3.3)\n",
            "Requirement already satisfied: jmespath<1.0.0,>=0.7.1 in /usr/local/lib/python3.6/dist-packages (from botocore==1.17.34->awscli) (0.10.0)\n",
            "Requirement already satisfied: python-dateutil<3.0.0,>=2.1 in /usr/local/lib/python3.6/dist-packages (from botocore==1.17.34->awscli) (2.8.1)\n",
            "Requirement already satisfied: urllib3<1.26,>=1.20; python_version != \"3.4\" in /usr/local/lib/python3.6/dist-packages (from botocore==1.17.34->awscli) (1.24.3)\n",
            "Requirement already satisfied: pyasn1>=0.1.3 in /usr/local/lib/python3.6/dist-packages (from rsa<=4.5.0,>=3.1.2; python_version != \"3.4\"->awscli) (0.4.8)\n",
            "Requirement already satisfied: six>=1.5 in /usr/local/lib/python3.6/dist-packages (from python-dateutil<3.0.0,>=2.1->botocore==1.17.34->awscli) (1.15.0)\n"
          ],
          "name": "stdout"
        }
      ]
    },
    {
      "cell_type": "code",
      "metadata": {
        "id": "6gpfGWCaSGZV",
        "colab_type": "code",
        "colab": {
          "base_uri": "https://localhost:8080/",
          "height": 34
        },
        "outputId": "5eb7e36c-798e-4f38-e397-c0e31019aca0"
      },
      "source": [
        "from google.colab import drive\n",
        "drive.mount('/content/drive')"
      ],
      "execution_count": 6,
      "outputs": [
        {
          "output_type": "stream",
          "text": [
            "Drive already mounted at /content/drive; to attempt to forcibly remount, call drive.mount(\"/content/drive\", force_remount=True).\n"
          ],
          "name": "stdout"
        }
      ]
    },
    {
      "cell_type": "code",
      "metadata": {
        "id": "-GU-pSQSSWWR",
        "colab_type": "code",
        "colab": {}
      },
      "source": [
        "!unzip -uq \"/content/drive/My Drive/siamese/images_background.zip\" -d \"/content/drive/My Drive/image_background\""
      ],
      "execution_count": 7,
      "outputs": []
    },
    {
      "cell_type": "markdown",
      "metadata": {
        "id": "5BG2u6ExLxHc",
        "colab_type": "text"
      },
      "source": [
        "## Load images into tensors"
      ]
    },
    {
      "cell_type": "code",
      "metadata": {
        "id": "kbCz3JPdLxHd",
        "colab_type": "code",
        "colab": {
          "base_uri": "https://localhost:8080/",
          "height": 550
        },
        "outputId": "bf705add-6719-4117-df9b-cadf954b1ac9"
      },
      "source": [
        "x = []\n",
        "y = []\n",
        "cat_dict = {}\n",
        "lang_dict = {}\n",
        "n=0\n",
        "for a in os.listdir('/content/drive/My Drive/image_background/images_background'):\n",
        "    print(\"Loading alphabet\" , a)\n",
        "    lang_dict[a] = [n , None]\n",
        "    a_path = os.path.join('/content/drive/My Drive/image_background/images_background',a)\n",
        "    \n",
        "    for c in os.listdir(a_path):\n",
        "        cat_dict[n] = (a,c)\n",
        "        c_images = []\n",
        "        c_path = os.path.join(a_path,c)\n",
        "        \n",
        "        for c_20 in os.listdir(c_path):\n",
        "            c_20_path = os.path.join(c_path , c_20)\n",
        "            img = imread(c_20_path)\n",
        "            c_images.append(img)\n",
        "            y.append(n)\n",
        "            \n",
        "        x.append(np.stack(c_images))\n",
        "        lang_dict[a][1] = n\n",
        "        n = n + 1       "
      ],
      "execution_count": 9,
      "outputs": [
        {
          "output_type": "stream",
          "text": [
            "Loading alphabet Bengali\n",
            "Loading alphabet Blackfoot_(Canadian_Aboriginal_Syllabics)\n",
            "Loading alphabet Braille\n",
            "Loading alphabet Burmese_(Myanmar)\n",
            "Loading alphabet Cyrillic\n",
            "Loading alphabet Early_Aramaic\n",
            "Loading alphabet Futurama\n",
            "Loading alphabet Grantha\n",
            "Loading alphabet Greek\n",
            "Loading alphabet Gujarati\n",
            "Loading alphabet Hebrew\n",
            "Loading alphabet Inuktitut_(Canadian_Aboriginal_Syllabics)\n",
            "Loading alphabet Japanese_(hiragana)\n",
            "Loading alphabet Japanese_(katakana)\n",
            "Loading alphabet Korean\n",
            "Loading alphabet Latin\n",
            "Loading alphabet Malay_(Jawi_-_Arabic)\n",
            "Loading alphabet Mkhedruli_(Georgian)\n",
            "Loading alphabet N_Ko\n",
            "Loading alphabet Ojibwe_(Canadian_Aboriginal_Syllabics)\n",
            "Loading alphabet Sanskrit\n",
            "Loading alphabet Syriac_(Estrangelo)\n",
            "Loading alphabet Tagalog\n",
            "Loading alphabet Tifinagh\n",
            "Loading alphabet Alphabet_of_the_Magi\n",
            "Loading alphabet Anglo-Saxon_Futhorc\n",
            "Loading alphabet Arcadian\n",
            "Loading alphabet Armenian\n",
            "Loading alphabet Asomtavruli_(Georgian)\n",
            "Loading alphabet Balinese\n"
          ],
          "name": "stdout"
        }
      ]
    },
    {
      "cell_type": "code",
      "metadata": {
        "id": "dBFjn9wkLxHg",
        "colab_type": "code",
        "colab": {}
      },
      "source": [
        "y = np.vstack(y)"
      ],
      "execution_count": 10,
      "outputs": []
    },
    {
      "cell_type": "code",
      "metadata": {
        "id": "LPExWIHBLxHj",
        "colab_type": "code",
        "colab": {}
      },
      "source": [
        "x = np.stack(x)"
      ],
      "execution_count": 11,
      "outputs": []
    },
    {
      "cell_type": "code",
      "metadata": {
        "id": "LcPoYEaELxHm",
        "colab_type": "code",
        "colab": {
          "base_uri": "https://localhost:8080/",
          "height": 34
        },
        "outputId": "9b997cfe-0fea-4a1a-bcbe-f49285e0cf3d"
      },
      "source": [
        "x.shape"
      ],
      "execution_count": 12,
      "outputs": [
        {
          "output_type": "execute_result",
          "data": {
            "text/plain": [
              "(964, 20, 105, 105)"
            ]
          },
          "metadata": {
            "tags": []
          },
          "execution_count": 12
        }
      ]
    },
    {
      "cell_type": "code",
      "metadata": {
        "id": "-O8nc7ukLxHq",
        "colab_type": "code",
        "colab": {
          "base_uri": "https://localhost:8080/",
          "height": 34
        },
        "outputId": "894dc289-b818-42e0-906f-f2187bac81e0"
      },
      "source": [
        "y.shape"
      ],
      "execution_count": 13,
      "outputs": [
        {
          "output_type": "execute_result",
          "data": {
            "text/plain": [
              "(19280, 1)"
            ]
          },
          "metadata": {
            "tags": []
          },
          "execution_count": 13
        }
      ]
    },
    {
      "cell_type": "code",
      "metadata": {
        "id": "vES27XleLxHt",
        "colab_type": "code",
        "colab": {
          "base_uri": "https://localhost:8080/",
          "height": 141
        },
        "outputId": "1c8c4213-a719-48a7-827e-b141f531c379"
      },
      "source": [
        "print(y)"
      ],
      "execution_count": 14,
      "outputs": [
        {
          "output_type": "stream",
          "text": [
            "[[  0]\n",
            " [  0]\n",
            " [  0]\n",
            " ...\n",
            " [963]\n",
            " [963]\n",
            " [963]]\n"
          ],
          "name": "stdout"
        }
      ]
    },
    {
      "cell_type": "markdown",
      "metadata": {
        "id": "kBlJRD2aLxHx",
        "colab_type": "text"
      },
      "source": [
        "## Analysis of the shapes"
      ]
    },
    {
      "cell_type": "code",
      "metadata": {
        "id": "7wbTPdysLxHy",
        "colab_type": "code",
        "colab": {
          "base_uri": "https://localhost:8080/",
          "height": 710
        },
        "outputId": "bc4dd178-0f6a-4e60-88c3-babe710312bb"
      },
      "source": [
        "y[0:20] , y[20:40]"
      ],
      "execution_count": 15,
      "outputs": [
        {
          "output_type": "execute_result",
          "data": {
            "text/plain": [
              "(array([[0],\n",
              "        [0],\n",
              "        [0],\n",
              "        [0],\n",
              "        [0],\n",
              "        [0],\n",
              "        [0],\n",
              "        [0],\n",
              "        [0],\n",
              "        [0],\n",
              "        [0],\n",
              "        [0],\n",
              "        [0],\n",
              "        [0],\n",
              "        [0],\n",
              "        [0],\n",
              "        [0],\n",
              "        [0],\n",
              "        [0],\n",
              "        [0]]), array([[1],\n",
              "        [1],\n",
              "        [1],\n",
              "        [1],\n",
              "        [1],\n",
              "        [1],\n",
              "        [1],\n",
              "        [1],\n",
              "        [1],\n",
              "        [1],\n",
              "        [1],\n",
              "        [1],\n",
              "        [1],\n",
              "        [1],\n",
              "        [1],\n",
              "        [1],\n",
              "        [1],\n",
              "        [1],\n",
              "        [1],\n",
              "        [1]]))"
            ]
          },
          "metadata": {
            "tags": []
          },
          "execution_count": 15
        }
      ]
    },
    {
      "cell_type": "code",
      "metadata": {
        "id": "VIVC3p7LLxH2",
        "colab_type": "code",
        "colab": {
          "base_uri": "https://localhost:8080/",
          "height": 141
        },
        "outputId": "c9fc2311-499b-45e0-895a-df936bedb641"
      },
      "source": [
        "x[0][1]"
      ],
      "execution_count": 16,
      "outputs": [
        {
          "output_type": "execute_result",
          "data": {
            "text/plain": [
              "array([[1., 1., 1., ..., 1., 1., 1.],\n",
              "       [1., 1., 1., ..., 1., 1., 1.],\n",
              "       [1., 1., 1., ..., 1., 1., 1.],\n",
              "       ...,\n",
              "       [1., 1., 1., ..., 1., 1., 1.],\n",
              "       [1., 1., 1., ..., 1., 1., 1.],\n",
              "       [1., 1., 1., ..., 1., 1., 1.]], dtype=float32)"
            ]
          },
          "metadata": {
            "tags": []
          },
          "execution_count": 16
        }
      ]
    },
    {
      "cell_type": "code",
      "metadata": {
        "id": "sinngWfLLxH5",
        "colab_type": "code",
        "colab": {}
      },
      "source": [
        ""
      ],
      "execution_count": 16,
      "outputs": []
    },
    {
      "cell_type": "markdown",
      "metadata": {
        "id": "ULTRjoaiLxH9",
        "colab_type": "text"
      },
      "source": [
        "## Create Batches"
      ]
    },
    {
      "cell_type": "code",
      "metadata": {
        "id": "QqLIwhSrLxH9",
        "colab_type": "code",
        "colab": {}
      },
      "source": [
        "def generate_mini_batch(batchsize , x):\n",
        "    n_chars , n_examples, width, height = x.shape\n",
        "    alphabet = random.choice(n_chars,size=(batchsize,),replace=False)\n",
        "    pairs=[np.zeros((batchsize, height, width,1)) for i in range(2)]\n",
        "    targets=np.zeros((batchsize,))\n",
        "    targets[batchsize//2:] = 1\n",
        "    for i in range(0,batchsize):\n",
        "        alph = alphabet[i]\n",
        "        idx1 = np.random.randint(0,n_examples)\n",
        "        pairs[0][i,:,:,:] = x[alph,idx1].reshape(width,height,1)\n",
        "        idx2 = np.random.randint(0,n_examples)\n",
        "        if i>=batchsize/2:\n",
        "            pairs[1][i,:,:,:] = x[alph,idx2].reshape(width,height,1)\n",
        "        else:\n",
        "            alph = (alph + random.randint(1,n_chars))%n_chars\n",
        "            pairs[1][i,:,:,:] = x[alph , idx2].reshape(width,height,1)\n",
        "        \n",
        "    return pairs,targets"
      ],
      "execution_count": 17,
      "outputs": []
    },
    {
      "cell_type": "code",
      "metadata": {
        "id": "qV4-oxywLxIA",
        "colab_type": "code",
        "colab": {}
      },
      "source": [
        "def generator(batchsize):\n",
        "    while True:\n",
        "            pairs, targets = generate_mini_batch(batchsize, x)\n",
        "            yield (pairs, targets)"
      ],
      "execution_count": 18,
      "outputs": []
    },
    {
      "cell_type": "markdown",
      "metadata": {
        "id": "DOvDKU8LLxIJ",
        "colab_type": "text"
      },
      "source": [
        "## Build the model"
      ]
    },
    {
      "cell_type": "code",
      "metadata": {
        "id": "ewHFGo_-LxIK",
        "colab_type": "code",
        "colab": {}
      },
      "source": [
        "def weight_init(shape , dtype=None , name=None):\n",
        "    return np.random.normal(loc = 0.0, scale = 1e-2, size = shape)\n",
        "def bias_init(shape, dtype=None , name=None):\n",
        "    return np.random.normal(loc = 0.5, scale = 1e-2, size = shape)"
      ],
      "execution_count": 85,
      "outputs": []
    },
    {
      "cell_type": "code",
      "metadata": {
        "id": "7st28KsxLxIO",
        "colab_type": "code",
        "colab": {}
      },
      "source": [
        "def build_model(input_shape):\n",
        "    left_input = Input(input_shape)\n",
        "    right_input = Input(input_shape)\n",
        "    print(left_input)\n",
        "    model = Sequential()\n",
        "    model.add(Conv2D(64, (10,10), activation='relu', input_shape=input_shape,\n",
        "                   kernel_initializer=weight_init, kernel_regularizer=l2(2e-4)))\n",
        "    model.add(MaxPooling2D())\n",
        "    model.add(Conv2D(128, (7,7), activation='relu',\n",
        "                     kernel_initializer=weight_init,\n",
        "                     bias_initializer=bias_init, kernel_regularizer=l2(2e-4)))\n",
        "    model.add(MaxPooling2D())\n",
        "    model.add(Conv2D(128, (4,4), activation='relu', kernel_initializer=weight_init,\n",
        "                     bias_initializer=bias_init, kernel_regularizer=l2(2e-4)))\n",
        "    model.add(MaxPooling2D())\n",
        "    model.add(Conv2D(256, (4,4), activation='relu', kernel_initializer=weight_init,\n",
        "                     bias_initializer=bias_init, kernel_regularizer=l2(2e-4)))\n",
        "    model.add(Flatten())\n",
        "    model.add(Dense(4096, activation='sigmoid',\n",
        "                   kernel_regularizer=l2(1e-3),\n",
        "                   kernel_initializer=weight_init,bias_initializer=bias_init))\n",
        "    encoded_l = model(left_input)\n",
        "    encoded_r = model(right_input)\n",
        "    L1_layer = Lambda(lambda tensors:K.abs(tensors[0] - tensors[1]))\n",
        "    L1_distance = L1_layer([encoded_l, encoded_r])\n",
        "    prediction = Dense(1,activation='sigmoid',bias_initializer=bias_init)(L1_distance)\n",
        "    siamese_net = Model(inputs=[left_input,right_input],outputs=prediction)\n",
        "    return siamese_net"
      ],
      "execution_count": 86,
      "outputs": []
    },
    {
      "cell_type": "code",
      "metadata": {
        "id": "L-dEozTmLxIS",
        "colab_type": "code",
        "colab": {}
      },
      "source": [
        ""
      ],
      "execution_count": 20,
      "outputs": []
    },
    {
      "cell_type": "code",
      "metadata": {
        "id": "iCzNU2yWLxIV",
        "colab_type": "code",
        "colab": {
          "base_uri": "https://localhost:8080/",
          "height": 34
        },
        "outputId": "7e7f3b8d-4e52-4838-9af2-0005fe7cd328"
      },
      "source": [
        "model = build_model((105, 105, 1))"
      ],
      "execution_count": 87,
      "outputs": [
        {
          "output_type": "stream",
          "text": [
            "KerasTensor(type_spec=TensorSpec(shape=(None, 105, 105, 1), dtype=tf.float32, name='input_11'), name='input_11', description=\"Symbolic value 0 from symbolic call 0 of layer 'input_11'\")\n"
          ],
          "name": "stdout"
        }
      ]
    },
    {
      "cell_type": "code",
      "metadata": {
        "id": "xxUMfcFrLxIY",
        "colab_type": "code",
        "colab": {
          "base_uri": "https://localhost:8080/",
          "height": 372
        },
        "outputId": "72767260-9cd5-49d2-a563-6d143dc3b860"
      },
      "source": [
        "model.summary()"
      ],
      "execution_count": 22,
      "outputs": [
        {
          "output_type": "stream",
          "text": [
            "Model: \"functional_1\"\n",
            "__________________________________________________________________________________________________\n",
            "Layer (type)                    Output Shape         Param #     Connected to                     \n",
            "==================================================================================================\n",
            "input_1 (InputLayer)            [(None, 105, 105, 1) 0                                            \n",
            "__________________________________________________________________________________________________\n",
            "input_2 (InputLayer)            [(None, 105, 105, 1) 0                                            \n",
            "__________________________________________________________________________________________________\n",
            "sequential (Sequential)         (None, 4096)         38947648    input_1[0][0]                    \n",
            "                                                                 input_2[0][0]                    \n",
            "__________________________________________________________________________________________________\n",
            "lambda (Lambda)                 (None, 4096)         0           sequential[0][0]                 \n",
            "                                                                 sequential[1][0]                 \n",
            "__________________________________________________________________________________________________\n",
            "dense_1 (Dense)                 (None, 1)            4097        lambda[0][0]                     \n",
            "==================================================================================================\n",
            "Total params: 38,951,745\n",
            "Trainable params: 38,951,745\n",
            "Non-trainable params: 0\n",
            "__________________________________________________________________________________________________\n"
          ],
          "name": "stdout"
        }
      ]
    },
    {
      "cell_type": "code",
      "metadata": {
        "id": "QsUO-Ju_LxIb",
        "colab_type": "code",
        "colab": {}
      },
      "source": [
        "optimizer = Adam(lr = 0.00006)\n",
        "model.compile(loss=\"binary_crossentropy\",optimizer=optimizer)"
      ],
      "execution_count": 23,
      "outputs": []
    },
    {
      "cell_type": "markdown",
      "metadata": {
        "id": "s78nCMkaLxIf",
        "colab_type": "text"
      },
      "source": [
        "## Initialise hyperparameters"
      ]
    },
    {
      "cell_type": "code",
      "metadata": {
        "id": "lm8Tn715LxIf",
        "colab_type": "code",
        "colab": {
          "base_uri": "https://localhost:8080/",
          "height": 1000
        },
        "outputId": "27344920-9983-4cfe-87b6-e77e1333dd84"
      },
      "source": [
        "batchsize = 32\n",
        "iterations = 20000\n",
        "for i in range(1, iterations+1):\n",
        "    (inputs,targets) =generate_mini_batch(batchsize,x)\n",
        "    loss = model.train_on_batch(inputs, targets)\n",
        "    if i%100 == 0:\n",
        "        print(\"Loss: \" , loss , \"Iteration: \", i)\n",
        "        "
      ],
      "execution_count": 24,
      "outputs": [
        {
          "output_type": "stream",
          "text": [
            "Loss:  2.400463104248047 Iteration:  100\n",
            "Loss:  1.5920823812484741 Iteration:  200\n",
            "Loss:  1.213270902633667 Iteration:  300\n",
            "Loss:  1.039536952972412 Iteration:  400\n",
            "Loss:  0.8766752481460571 Iteration:  500\n",
            "Loss:  0.8876118659973145 Iteration:  600\n",
            "Loss:  0.6415328979492188 Iteration:  700\n",
            "Loss:  0.7101261019706726 Iteration:  800\n",
            "Loss:  0.46068334579467773 Iteration:  900\n",
            "Loss:  0.601530134677887 Iteration:  1000\n",
            "Loss:  0.5049608945846558 Iteration:  1100\n",
            "Loss:  0.6391229033470154 Iteration:  1200\n",
            "Loss:  0.5988340377807617 Iteration:  1300\n",
            "Loss:  0.5784866809844971 Iteration:  1400\n",
            "Loss:  0.5102099180221558 Iteration:  1500\n",
            "Loss:  0.603340744972229 Iteration:  1600\n",
            "Loss:  0.4500719904899597 Iteration:  1700\n",
            "Loss:  0.4727054238319397 Iteration:  1800\n",
            "Loss:  0.5489341616630554 Iteration:  1900\n",
            "Loss:  0.390188604593277 Iteration:  2000\n",
            "Loss:  0.5089820027351379 Iteration:  2100\n",
            "Loss:  0.36753201484680176 Iteration:  2200\n",
            "Loss:  0.364459753036499 Iteration:  2300\n",
            "Loss:  0.3049468696117401 Iteration:  2400\n",
            "Loss:  0.3967146873474121 Iteration:  2500\n",
            "Loss:  0.5529109835624695 Iteration:  2600\n",
            "Loss:  0.5114277005195618 Iteration:  2700\n",
            "Loss:  0.3679109513759613 Iteration:  2800\n",
            "Loss:  0.6393744945526123 Iteration:  2900\n",
            "Loss:  0.5118319988250732 Iteration:  3000\n",
            "Loss:  0.43383312225341797 Iteration:  3100\n",
            "Loss:  0.2891836166381836 Iteration:  3200\n",
            "Loss:  0.30758824944496155 Iteration:  3300\n",
            "Loss:  0.3047771453857422 Iteration:  3400\n",
            "Loss:  0.2292664647102356 Iteration:  3500\n",
            "Loss:  0.47461947798728943 Iteration:  3600\n",
            "Loss:  0.2700052857398987 Iteration:  3700\n",
            "Loss:  0.36157354712486267 Iteration:  3800\n",
            "Loss:  0.41876843571662903 Iteration:  3900\n",
            "Loss:  0.34218138456344604 Iteration:  4000\n",
            "Loss:  0.40524935722351074 Iteration:  4100\n",
            "Loss:  0.35965192317962646 Iteration:  4200\n",
            "Loss:  0.4121834933757782 Iteration:  4300\n",
            "Loss:  0.313687801361084 Iteration:  4400\n",
            "Loss:  0.2964296340942383 Iteration:  4500\n",
            "Loss:  0.31822487711906433 Iteration:  4600\n",
            "Loss:  0.3493708372116089 Iteration:  4700\n",
            "Loss:  0.2955690324306488 Iteration:  4800\n",
            "Loss:  0.25427117943763733 Iteration:  4900\n",
            "Loss:  0.2746320962905884 Iteration:  5000\n",
            "Loss:  0.31194964051246643 Iteration:  5100\n",
            "Loss:  0.28030848503112793 Iteration:  5200\n",
            "Loss:  0.373166024684906 Iteration:  5300\n",
            "Loss:  0.2766781449317932 Iteration:  5400\n",
            "Loss:  0.433862566947937 Iteration:  5500\n",
            "Loss:  0.2739000618457794 Iteration:  5600\n",
            "Loss:  0.23783215880393982 Iteration:  5700\n",
            "Loss:  0.3172181248664856 Iteration:  5800\n",
            "Loss:  0.2137666642665863 Iteration:  5900\n",
            "Loss:  0.20799532532691956 Iteration:  6000\n",
            "Loss:  0.30491429567337036 Iteration:  6100\n",
            "Loss:  0.2012900710105896 Iteration:  6200\n",
            "Loss:  0.23433300852775574 Iteration:  6300\n",
            "Loss:  0.215057373046875 Iteration:  6400\n",
            "Loss:  0.22077995538711548 Iteration:  6500\n",
            "Loss:  0.5376313924789429 Iteration:  6600\n",
            "Loss:  0.25325992703437805 Iteration:  6700\n",
            "Loss:  0.22467230260372162 Iteration:  6800\n",
            "Loss:  0.44861331582069397 Iteration:  6900\n",
            "Loss:  0.3156859874725342 Iteration:  7000\n",
            "Loss:  0.29502102732658386 Iteration:  7100\n",
            "Loss:  0.24929063022136688 Iteration:  7200\n",
            "Loss:  0.1835615336894989 Iteration:  7300\n",
            "Loss:  0.3147082030773163 Iteration:  7400\n",
            "Loss:  0.2667372524738312 Iteration:  7500\n",
            "Loss:  0.35002022981643677 Iteration:  7600\n",
            "Loss:  0.1943179965019226 Iteration:  7700\n",
            "Loss:  0.400599867105484 Iteration:  7800\n",
            "Loss:  0.13888418674468994 Iteration:  7900\n",
            "Loss:  0.27431297302246094 Iteration:  8000\n",
            "Loss:  0.22973160445690155 Iteration:  8100\n",
            "Loss:  0.2811225652694702 Iteration:  8200\n",
            "Loss:  0.32012444734573364 Iteration:  8300\n",
            "Loss:  0.3016677796840668 Iteration:  8400\n",
            "Loss:  0.20546481013298035 Iteration:  8500\n",
            "Loss:  0.2728116512298584 Iteration:  8600\n",
            "Loss:  0.3691714406013489 Iteration:  8700\n",
            "Loss:  0.22299343347549438 Iteration:  8800\n",
            "Loss:  0.4535755217075348 Iteration:  8900\n",
            "Loss:  0.2130262702703476 Iteration:  9000\n",
            "Loss:  0.2460104078054428 Iteration:  9100\n",
            "Loss:  0.37373948097229004 Iteration:  9200\n",
            "Loss:  0.24503745138645172 Iteration:  9300\n",
            "Loss:  0.22280097007751465 Iteration:  9400\n",
            "Loss:  0.1710282862186432 Iteration:  9500\n",
            "Loss:  0.285437673330307 Iteration:  9600\n",
            "Loss:  0.29821956157684326 Iteration:  9700\n",
            "Loss:  0.2089168131351471 Iteration:  9800\n",
            "Loss:  0.1514652967453003 Iteration:  9900\n",
            "Loss:  0.2693888545036316 Iteration:  10000\n",
            "Loss:  0.28265053033828735 Iteration:  10100\n",
            "Loss:  0.18828560411930084 Iteration:  10200\n",
            "Loss:  0.3545380234718323 Iteration:  10300\n",
            "Loss:  0.1961432248353958 Iteration:  10400\n",
            "Loss:  0.24550530314445496 Iteration:  10500\n",
            "Loss:  0.232670396566391 Iteration:  10600\n",
            "Loss:  0.16524294018745422 Iteration:  10700\n",
            "Loss:  0.1481015980243683 Iteration:  10800\n",
            "Loss:  0.28279268741607666 Iteration:  10900\n",
            "Loss:  0.27744966745376587 Iteration:  11000\n",
            "Loss:  0.17371131479740143 Iteration:  11100\n",
            "Loss:  0.21106523275375366 Iteration:  11200\n",
            "Loss:  0.35602617263793945 Iteration:  11300\n",
            "Loss:  0.2430190145969391 Iteration:  11400\n",
            "Loss:  0.4653666019439697 Iteration:  11500\n",
            "Loss:  0.1998801827430725 Iteration:  11600\n",
            "Loss:  0.2621215283870697 Iteration:  11700\n",
            "Loss:  0.16806411743164062 Iteration:  11800\n",
            "Loss:  0.18562853336334229 Iteration:  11900\n",
            "Loss:  0.15419158339500427 Iteration:  12000\n",
            "Loss:  0.2655937075614929 Iteration:  12100\n",
            "Loss:  0.18605151772499084 Iteration:  12200\n",
            "Loss:  0.2098405361175537 Iteration:  12300\n",
            "Loss:  0.17381331324577332 Iteration:  12400\n",
            "Loss:  0.17061829566955566 Iteration:  12500\n",
            "Loss:  0.1803518831729889 Iteration:  12600\n",
            "Loss:  0.2639002799987793 Iteration:  12700\n",
            "Loss:  0.30686652660369873 Iteration:  12800\n",
            "Loss:  0.1843957006931305 Iteration:  12900\n",
            "Loss:  0.17993062734603882 Iteration:  13000\n",
            "Loss:  0.3235834240913391 Iteration:  13100\n",
            "Loss:  0.13795195519924164 Iteration:  13200\n",
            "Loss:  0.24844059348106384 Iteration:  13300\n",
            "Loss:  0.26366522908210754 Iteration:  13400\n",
            "Loss:  0.22583520412445068 Iteration:  13500\n",
            "Loss:  0.2513485550880432 Iteration:  13600\n",
            "Loss:  0.20723751187324524 Iteration:  13700\n",
            "Loss:  0.15715748071670532 Iteration:  13800\n",
            "Loss:  0.1776435375213623 Iteration:  13900\n",
            "Loss:  0.19328683614730835 Iteration:  14000\n",
            "Loss:  0.2651370167732239 Iteration:  14100\n",
            "Loss:  0.20441730320453644 Iteration:  14200\n",
            "Loss:  0.1649886667728424 Iteration:  14300\n",
            "Loss:  0.3291608989238739 Iteration:  14400\n",
            "Loss:  0.3406824469566345 Iteration:  14500\n",
            "Loss:  0.18817371129989624 Iteration:  14600\n",
            "Loss:  0.22644346952438354 Iteration:  14700\n",
            "Loss:  0.1593921035528183 Iteration:  14800\n",
            "Loss:  0.1345592737197876 Iteration:  14900\n",
            "Loss:  0.2890942096710205 Iteration:  15000\n",
            "Loss:  0.20357462763786316 Iteration:  15100\n",
            "Loss:  0.14898069202899933 Iteration:  15200\n",
            "Loss:  0.16166502237319946 Iteration:  15300\n",
            "Loss:  0.15782737731933594 Iteration:  15400\n",
            "Loss:  0.20683535933494568 Iteration:  15500\n",
            "Loss:  0.19657641649246216 Iteration:  15600\n",
            "Loss:  0.35515427589416504 Iteration:  15700\n",
            "Loss:  0.1272062063217163 Iteration:  15800\n",
            "Loss:  0.2298315465450287 Iteration:  15900\n",
            "Loss:  0.20925229787826538 Iteration:  16000\n",
            "Loss:  0.16990940272808075 Iteration:  16100\n",
            "Loss:  0.15035203099250793 Iteration:  16200\n",
            "Loss:  0.21561795473098755 Iteration:  16300\n",
            "Loss:  0.1442607045173645 Iteration:  16400\n",
            "Loss:  0.17734238505363464 Iteration:  16500\n",
            "Loss:  0.26808565855026245 Iteration:  16600\n",
            "Loss:  0.191239595413208 Iteration:  16700\n",
            "Loss:  0.18485629558563232 Iteration:  16800\n",
            "Loss:  0.32062336802482605 Iteration:  16900\n",
            "Loss:  0.26770609617233276 Iteration:  17000\n",
            "Loss:  0.19734345376491547 Iteration:  17100\n",
            "Loss:  0.1992844045162201 Iteration:  17200\n",
            "Loss:  0.18153116106987 Iteration:  17300\n",
            "Loss:  0.1430233120918274 Iteration:  17400\n",
            "Loss:  0.1647808849811554 Iteration:  17500\n",
            "Loss:  0.17244122922420502 Iteration:  17600\n",
            "Loss:  0.16688749194145203 Iteration:  17700\n",
            "Loss:  0.1744779348373413 Iteration:  17800\n",
            "Loss:  0.24709054827690125 Iteration:  17900\n",
            "Loss:  0.3221045136451721 Iteration:  18000\n",
            "Loss:  0.2302207201719284 Iteration:  18100\n",
            "Loss:  0.16986317932605743 Iteration:  18200\n",
            "Loss:  0.1473110318183899 Iteration:  18300\n",
            "Loss:  0.21504709124565125 Iteration:  18400\n",
            "Loss:  0.12479877471923828 Iteration:  18500\n",
            "Loss:  0.2475241720676422 Iteration:  18600\n",
            "Loss:  0.16127963364124298 Iteration:  18700\n",
            "Loss:  0.33611127734184265 Iteration:  18800\n",
            "Loss:  0.15347090363502502 Iteration:  18900\n",
            "Loss:  0.19999206066131592 Iteration:  19000\n",
            "Loss:  0.2603692412376404 Iteration:  19100\n",
            "Loss:  0.23559114336967468 Iteration:  19200\n",
            "Loss:  0.20645976066589355 Iteration:  19300\n",
            "Loss:  0.17760545015335083 Iteration:  19400\n",
            "Loss:  0.17544186115264893 Iteration:  19500\n",
            "Loss:  0.15200603008270264 Iteration:  19600\n",
            "Loss:  0.15065038204193115 Iteration:  19700\n",
            "Loss:  0.19799959659576416 Iteration:  19800\n",
            "Loss:  0.17194333672523499 Iteration:  19900\n",
            "Loss:  0.1323060393333435 Iteration:  20000\n"
          ],
          "name": "stdout"
        }
      ]
    },
    {
      "cell_type": "code",
      "metadata": {
        "id": "t85Dp_OULxIp",
        "colab_type": "code",
        "colab": {
          "base_uri": "https://localhost:8080/",
          "height": 34
        },
        "outputId": "437392ca-9a0c-4061-887c-bca23948722c"
      },
      "source": [
        "model.summary"
      ],
      "execution_count": 25,
      "outputs": [
        {
          "output_type": "execute_result",
          "data": {
            "text/plain": [
              "<bound method Model.summary of <tensorflow.python.keras.engine.functional.Functional object at 0x7f0bcc758748>>"
            ]
          },
          "metadata": {
            "tags": []
          },
          "execution_count": 25
        }
      ]
    },
    {
      "cell_type": "markdown",
      "metadata": {
        "id": "M2aJskDE0ilB",
        "colab_type": "text"
      },
      "source": [
        "## Test data import"
      ]
    },
    {
      "cell_type": "code",
      "metadata": {
        "id": "VyCrrBl51Vrq",
        "colab_type": "code",
        "colab": {}
      },
      "source": [
        "!unzip -uq \"/content/drive/My Drive/siamese/images_test.zip\" -d \"/content/drive/My Drive/image_test\""
      ],
      "execution_count": 26,
      "outputs": []
    },
    {
      "cell_type": "code",
      "metadata": {
        "id": "vkzlx1jS0pCq",
        "colab_type": "code",
        "colab": {
          "base_uri": "https://localhost:8080/",
          "height": 390
        },
        "outputId": "b8d08362-4659-4c70-94c0-be061a63dcb5"
      },
      "source": [
        "%pylab inline\n",
        "x_test = []\n",
        "y_test = []\n",
        "cat_dict = {}\n",
        "lang_dict = {}\n",
        "n=0\n",
        "for a in os.listdir('/content/drive/My Drive/image_test/images_test'):\n",
        "    print(\"Loading alphabet\" , a)\n",
        "    lang_dict[a] = [n , None]\n",
        "    a_path = os.path.join('/content/drive/My Drive/image_test/images_test',a)\n",
        "    \n",
        "    for c in os.listdir(a_path):\n",
        "        cat_dict[n] = (a,c)\n",
        "        c_images = []\n",
        "        c_path = os.path.join(a_path,c)\n",
        "        \n",
        "        for c_20 in os.listdir(c_path):\n",
        "            c_20_path = os.path.join(c_path , c_20)\n",
        "            img = imread(c_20_path)\n",
        "            c_images.append(img)\n",
        "            y_test.append(n)\n",
        "            \n",
        "        x_test.append(np.stack(c_images))\n",
        "        lang_dict[a][1] = n\n",
        "        n = n + 1       "
      ],
      "execution_count": 46,
      "outputs": [
        {
          "output_type": "stream",
          "text": [
            "Populating the interactive namespace from numpy and matplotlib\n",
            "Loading alphabet Glagolitic\n",
            "Loading alphabet Gurmukhi\n",
            "Loading alphabet Kannada\n",
            "Loading alphabet Keble\n",
            "Loading alphabet Malayalam\n",
            "Loading alphabet Manipuri\n",
            "Loading alphabet Mongolian\n",
            "Loading alphabet Old_Church_Slavonic_(Cyrillic)\n",
            "Loading alphabet Oriya\n",
            "Loading alphabet Sylheti\n",
            "Loading alphabet Syriac_(Serto)\n",
            "Loading alphabet Tengwar\n",
            "Loading alphabet Tibetan\n",
            "Loading alphabet ULOG\n",
            "Loading alphabet Angelic\n",
            "Loading alphabet Atemayar_Qelisayer\n",
            "Loading alphabet Atlantean\n",
            "Loading alphabet Aurek-Besh\n",
            "Loading alphabet Avesta\n",
            "Loading alphabet Ge_ez\n"
          ],
          "name": "stdout"
        }
      ]
    },
    {
      "cell_type": "code",
      "metadata": {
        "id": "bHKbKcM93BKH",
        "colab_type": "code",
        "colab": {}
      },
      "source": [
        "x_test = np.stack(x_test)\n",
        "y_test = np.vstack(y_test)"
      ],
      "execution_count": 48,
      "outputs": []
    },
    {
      "cell_type": "code",
      "metadata": {
        "id": "nLTlF5ve3MpX",
        "colab_type": "code",
        "colab": {
          "base_uri": "https://localhost:8080/",
          "height": 34
        },
        "outputId": "1cdf9ab1-dcec-4ce8-833a-8003c245cb5c"
      },
      "source": [
        "y_test.shape"
      ],
      "execution_count": 49,
      "outputs": [
        {
          "output_type": "execute_result",
          "data": {
            "text/plain": [
              "(13180, 1)"
            ]
          },
          "metadata": {
            "tags": []
          },
          "execution_count": 49
        }
      ]
    },
    {
      "cell_type": "code",
      "metadata": {
        "id": "SQvZzRZd5Ao9",
        "colab_type": "code",
        "colab": {
          "base_uri": "https://localhost:8080/",
          "height": 372
        },
        "outputId": "c353907a-c791-473a-e014-060e87227d45"
      },
      "source": [
        "lang_dict"
      ],
      "execution_count": 33,
      "outputs": [
        {
          "output_type": "execute_result",
          "data": {
            "text/plain": [
              "{'Angelic': [509, 528],\n",
              " 'Atemayar_Qelisayer': [529, 554],\n",
              " 'Atlantean': [555, 580],\n",
              " 'Aurek-Besh': [581, 606],\n",
              " 'Avesta': [607, 632],\n",
              " 'Ge_ez': [633, 658],\n",
              " 'Glagolitic': [0, 44],\n",
              " 'Gurmukhi': [45, 89],\n",
              " 'Kannada': [90, 130],\n",
              " 'Keble': [131, 156],\n",
              " 'Malayalam': [157, 203],\n",
              " 'Manipuri': [204, 243],\n",
              " 'Mongolian': [244, 273],\n",
              " 'Old_Church_Slavonic_(Cyrillic)': [274, 318],\n",
              " 'Oriya': [319, 364],\n",
              " 'Sylheti': [365, 392],\n",
              " 'Syriac_(Serto)': [393, 415],\n",
              " 'Tengwar': [416, 440],\n",
              " 'Tibetan': [441, 482],\n",
              " 'ULOG': [483, 508]}"
            ]
          },
          "metadata": {
            "tags": []
          },
          "execution_count": 33
        }
      ]
    },
    {
      "cell_type": "code",
      "metadata": {
        "id": "zFRILD6B3mxJ",
        "colab_type": "code",
        "colab": {}
      },
      "source": [
        "def make_oneshot_task(N, x_test, lang_dict,language=None):\n",
        "    X = x_test\n",
        "    categories = lang_dict\n",
        "    n_classes, n_examples, w, h = np.shape(X)\n",
        "    indices = np.random.randint(0, n_examples,size=(N,))\n",
        "    if language is not None: # if language is specified, select characters for that language\n",
        "        low, high = categories[language]\n",
        "        if N > high - low:\n",
        "            raise ValueError(\"This language ({}) has less than {} letters\".format(language, N))\n",
        "        categories = np.random.choice(range(low,high),size=(N,),replace=False)\n",
        "    else: # if no language specified just pick a bunch of random letters\n",
        "        categories = np.random.choice(range(n_classes),size=(N,),replace=False)            \n",
        "    \n",
        "    true_category = categories[0]\n",
        "    ex1, ex2 = np.random.choice(n_examples,replace=False,size=(2,))\n",
        "    test_image = np.asarray([X[true_category,ex1,:,:]]*N).reshape(N, w, h,1)\n",
        "    support_set = X[categories,indices,:,:]\n",
        "    support_set[0,:,:] = X[true_category,ex2]\n",
        "    support_set = support_set.reshape(N, w, h,1)\n",
        "    targets = np.zeros((N,))\n",
        "    targets[0] = 1\n",
        "    c = list(zip(targets, test_image ,support_set))\n",
        "    random.shuffle(c)\n",
        "    targets, test_image, support_set = zip(*c)\n",
        "    pairs = [test_image,support_set]\n",
        "    return pairs, targets\n"
      ],
      "execution_count": 51,
      "outputs": []
    },
    {
      "cell_type": "code",
      "metadata": {
        "id": "OA1ssDc35QmZ",
        "colab_type": "code",
        "colab": {}
      },
      "source": [
        "def test_model(model , N , k , x_test ,lang_dict):\n",
        "  correct_pairs = 0\n",
        "  for i in range(0,k):\n",
        "    pairs,targets = make_oneshot_task(N,x_test,lang_dict)\n",
        "    prediction = model.predict(pairs)\n",
        "    if np.argmax(prediction) == np.argmax(targets):\n",
        "      correct_pairs = correct_pairs + 1\n",
        "  percent_correct = (100.0 * correct_pairs / k)\n",
        "  print(\"Accuracy% : \" , percent_correct)\n",
        "  return percent_correct"
      ],
      "execution_count": 55,
      "outputs": []
    },
    {
      "cell_type": "code",
      "metadata": {
        "id": "aweSSV5s-09e",
        "colab_type": "code",
        "colab": {}
      },
      "source": [
        "K.set_image_data_format('channels_last')\n"
      ],
      "execution_count": 83,
      "outputs": []
    },
    {
      "cell_type": "code",
      "metadata": {
        "id": "cY8K3T_i7_dM",
        "colab_type": "code",
        "colab": {}
      },
      "source": [
        "ways = np.arange(1,20,2)\n",
        "k=50\n",
        "for N in ways:\n",
        "  print(N)\n",
        "  test_model(model,N,k,x_test,lang_dict)"
      ],
      "execution_count": null,
      "outputs": []
    }
  ]
}